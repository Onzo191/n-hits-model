{
 "cells": [
  {
   "cell_type": "markdown",
   "metadata": {},
   "source": [
    "# Data Crawler"
   ]
  },
  {
   "cell_type": "markdown",
   "metadata": {},
   "source": [
    "## Install & import libraries"
   ]
  },
  {
   "cell_type": "code",
   "execution_count": 1,
   "metadata": {},
   "outputs": [],
   "source": [
    "%%capture\n",
    "!pip install yfinance"
   ]
  },
  {
   "cell_type": "code",
   "execution_count": 2,
   "metadata": {},
   "outputs": [],
   "source": [
    "import yfinance as yf\n",
    "import pandas as pd\n",
    "from datetime import datetime, timedelta"
   ]
  },
  {
   "cell_type": "markdown",
   "metadata": {},
   "source": [
    "## Crawl data"
   ]
  },
  {
   "cell_type": "code",
   "execution_count": 3,
   "metadata": {},
   "outputs": [],
   "source": [
    "DATASETS = ['BIDV', 'VCB', 'EIB']\n",
    "TICKER_SYMBOLS = ['BID.VN', 'VCB.VN', 'EIB.VN']\n",
    "START_DATE = '2019-01-01'\n",
    "END_DATE = '2024-06-01'\n",
    "\n",
    "INTERVAL = '1d'\n",
    "LOCALIZE = 'Asia/Ho_Chi_Minh'"
   ]
  },
  {
   "cell_type": "code",
   "execution_count": 4,
   "metadata": {},
   "outputs": [],
   "source": [
    "adjusted_start_date = pd.to_datetime(START_DATE).tz_localize(LOCALIZE)\n",
    "adjusted_end_date = pd.to_datetime(END_DATE).tz_localize(LOCALIZE) + timedelta(days=1)"
   ]
  },
  {
   "cell_type": "code",
   "execution_count": 5,
   "metadata": {},
   "outputs": [
    {
     "name": "stdout",
     "output_type": "stream",
     "text": [
      "CPU times: total: 46.9 ms\n",
      "Wall time: 5.8 s\n"
     ]
    }
   ],
   "source": [
    "%%time\n",
    "raw_data_dict = {}\n",
    "\n",
    "for ticker_symbol, dataset in zip(TICKER_SYMBOLS, DATASETS):\n",
    "    ticker_data = yf.Ticker(ticker_symbol)\n",
    "    historical_data = ticker_data.history(start=adjusted_start_date, end=adjusted_end_date, interval=INTERVAL)\n",
    "\n",
    "    raw_data_dict[dataset] = historical_data\n",
    "    "
   ]
  },
  {
   "cell_type": "code",
   "execution_count": 6,
   "metadata": {},
   "outputs": [
    {
     "name": "stdout",
     "output_type": "stream",
     "text": [
      "========================\n",
      "BIDV: Shape (1349, 7)\n",
      "------------------------\n",
      "Null checking\n",
      "------------------------\n",
      "Open            0\n",
      "High            0\n",
      "Low             0\n",
      "Close           0\n",
      "Volume          0\n",
      "Dividends       0\n",
      "Stock Splits    0\n",
      "dtype: int64\n",
      "========================\n",
      "VCB: Shape (1344, 7)\n",
      "------------------------\n",
      "Null checking\n",
      "------------------------\n",
      "Open            1\n",
      "High            1\n",
      "Low             1\n",
      "Close           1\n",
      "Volume          0\n",
      "Dividends       0\n",
      "Stock Splits    0\n",
      "dtype: int64\n",
      "========================\n",
      "EIB: Shape (1348, 7)\n",
      "------------------------\n",
      "Null checking\n",
      "------------------------\n",
      "Open            0\n",
      "High            0\n",
      "Low             0\n",
      "Close           0\n",
      "Volume          0\n",
      "Dividends       0\n",
      "Stock Splits    0\n",
      "dtype: int64\n"
     ]
    }
   ],
   "source": [
    "manual_run = True\n",
    "\n",
    "if manual_run:\n",
    "    line_length = 24\n",
    "\n",
    "    for dataset, data in raw_data_dict.items():\n",
    "        print('=' * line_length)\n",
    "        print(f'{dataset}: Shape {data.shape}')\n",
    "        print('-' * line_length)\n",
    "        print('Null checking')\n",
    "        print('-' * line_length)\n",
    "        print(f'{data.isnull().sum()}')\n",
    "else:\n",
    "    print(\"Manual Run Only!\")"
   ]
  },
  {
   "cell_type": "markdown",
   "metadata": {},
   "source": [
    "## Save datasets to ```/raw-data``` folder"
   ]
  },
  {
   "cell_type": "code",
   "execution_count": 7,
   "metadata": {},
   "outputs": [],
   "source": [
    "import os"
   ]
  },
  {
   "cell_type": "code",
   "execution_count": 8,
   "metadata": {},
   "outputs": [],
   "source": [
    "directory = 'raw-data'\n",
    "\n",
    "if not os.path.exists(directory):\n",
    "    os.makedirs(directory)"
   ]
  },
  {
   "cell_type": "code",
   "execution_count": 9,
   "metadata": {},
   "outputs": [
    {
     "name": "stdout",
     "output_type": "stream",
     "text": [
      "Saved BIDV_2019-01-01_2024-06-01.raw-data.csv\n",
      "Saved VCB_2019-01-01_2024-06-01.raw-data.csv\n",
      "Saved EIB_2019-01-01_2024-06-01.raw-data.csv\n"
     ]
    }
   ],
   "source": [
    "for dataset, data in raw_data_dict.items():\n",
    "    file_name = f\"{dataset}_{START_DATE}_{END_DATE}.raw-data.csv\"\n",
    "    file_path = os.path.join(directory, file_name)\n",
    "    data.to_csv(file_path)\n",
    "    print(f\"Saved {file_name}\")"
   ]
  }
 ],
 "metadata": {
  "kernelspec": {
   "display_name": "Python 3",
   "language": "python",
   "name": "python3"
  },
  "language_info": {
   "codemirror_mode": {
    "name": "ipython",
    "version": 3
   },
   "file_extension": ".py",
   "mimetype": "text/x-python",
   "name": "python",
   "nbconvert_exporter": "python",
   "pygments_lexer": "ipython3",
   "version": "3.12.3"
  }
 },
 "nbformat": 4,
 "nbformat_minor": 2
}
